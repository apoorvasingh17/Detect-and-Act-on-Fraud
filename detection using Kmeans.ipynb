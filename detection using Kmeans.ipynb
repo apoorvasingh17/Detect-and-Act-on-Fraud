{
 "cells": [
  {
   "cell_type": "code",
   "execution_count": 6,
   "metadata": {},
   "outputs": [
    {
     "name": "stdout",
     "output_type": "stream",
     "text": [
      "Python : 3.6.5 |Anaconda, Inc.| (default, Mar 29 2018, 13:32:41) [MSC v.1900 64 bit (AMD64)]\n",
      "Numpy : 1.14.3\n",
      "Pandas : 0.23.0\n",
      "matplotlib : 2.2.2\n",
      "Seaborn : 0.8.1\n",
      "Scipy : 1.1.0\n",
      "Sklearn : 0.19.1\n"
     ]
    }
   ],
   "source": [
    "import sys\n",
    "import numpy\n",
    "import pandas\n",
    "import matplotlib\n",
    "import seaborn\n",
    "import scipy\n",
    "import sklearn\n",
    "import time\n",
    "import pickle\n",
    "\n",
    "print('Python : {}'.format(sys.version))\n",
    "print('Numpy : {}'.format(numpy.__version__))\n",
    "print('Pandas : {}'.format(pandas.__version__))\n",
    "print('matplotlib : {}'.format(matplotlib.__version__))\n",
    "print('Seaborn : {}'.format(seaborn.__version__))\n",
    "print('Scipy : {}'.format(scipy.__version__))\n",
    "print('Sklearn : {}'.format(sklearn.__version__))\n",
    "\n"
   ]
  },
  {
   "cell_type": "code",
   "execution_count": 7,
   "metadata": {},
   "outputs": [],
   "source": [
    "import numpy as np\n",
    "import pandas as pd\n",
    "from sklearn.cluster import KMeans\n",
    "from sklearn.neighbors import KNeighborsClassifier\n",
    "from sklearn.model_selection import train_test_split\n",
    "from sklearn.preprocessing import normalize\n",
    "from sklearn.metrics import confusion_matrix\n",
    "from sklearn.metrics import accuracy_score\n",
    "from sklearn.metrics import precision_score\n",
    "from sklearn.metrics import recall_score\n",
    "from sklearn.metrics import f1_score\n",
    "import time"
   ]
  },
  {
   "cell_type": "code",
   "execution_count": 11,
   "metadata": {},
   "outputs": [
    {
     "name": "stdout",
     "output_type": "stream",
     "text": [
      "Index(['Time', 'V1', 'V2', 'V3', 'V4', 'V5', 'V6', 'V7', 'V8', 'V9', 'V10',\n",
      "       'V11', 'V12', 'V13', 'V14', 'V15', 'V16', 'V17', 'V18', 'V19', 'V20',\n",
      "       'V21', 'V22', 'V23', 'V24', 'V25', 'V26', 'V27', 'V28', 'Amount',\n",
      "       'Class'],\n",
      "      dtype='object')\n",
      "(284807, 31)\n"
     ]
    },
    {
     "name": "stderr",
     "output_type": "stream",
     "text": [
      "C:\\Users\\chauh\\Anaconda3\\lib\\site-packages\\sklearn\\model_selection\\_split.py:2026: FutureWarning: From version 0.21, test_size will always complement train_size unless both are specified.\n",
      "  FutureWarning)\n"
     ]
    }
   ],
   "source": [
    "tic=time.time()\n",
    "full_data=pd.read_csv(\"creditcard.csv\")\n",
    "\n",
    "full_data=full_data.sample(frac=1)#randomize the whole dataset\n",
    "print(full_data.columns)\n",
    "print(full_data.shape)\n",
    "\n",
    "full_features=full_data.drop([\"Time\",\"Class\"],axis=1)\n",
    "full_labels=pd.DataFrame(full_data[[\"Class\"]])\n",
    "\n",
    "\n",
    "full_features_array=full_features.values\n",
    "full_labels_array=full_labels.values\n",
    "\n",
    "\n",
    "train_features,test_features,train_labels,test_labels = train_test_split(full_features_array, full_labels_array, train_size=0.90)\n",
    "train_features = normalize(train_features)\n",
    "test_features = normalize(test_features)\n"
   ]
  },
  {
   "cell_type": "code",
   "execution_count": 12,
   "metadata": {},
   "outputs": [],
   "source": [
    "#k_means_classification --> k_means_clustering, confsion_matrix, reassigning\n",
    "kmeans=KMeans(n_clusters=2, random_state=0, algorithm=\"elkan\", max_iter=10000, n_jobs=-1)\n",
    "kmeans.fit(train_features)\n",
    "kmeans_predicted_train_labels = kmeans.predict(train_features)\n"
   ]
  },
  {
   "cell_type": "code",
   "execution_count": 6,
   "metadata": {},
   "outputs": [
    {
     "name": "stdout",
     "output_type": "stream",
     "text": [
      "tn --> true negatives\n",
      "fp --> false positives\n",
      "fn --> false negatives\n",
      "tp --> true positives\n"
     ]
    }
   ],
   "source": [
    "#confusion matrix\n",
    "# tn fp\n",
    "# fn tp\n",
    "print(\"tn --> true negatives\")\n",
    "print(\"fp --> false positives\")\n",
    "print(\"fn --> false negatives\")\n",
    "print(\"tp --> true positives\")"
   ]
  },
  {
   "cell_type": "code",
   "execution_count": 20,
   "metadata": {},
   "outputs": [
    {
     "name": "stdout",
     "output_type": "stream",
     "text": [
      "\n",
      "K-Means\n",
      "Confusion Matrix\n",
      "tn = 22777 fp = 5659\n",
      "fn = 19 tp = 26\n",
      "Scores\n",
      "Accuracy --> 0.8006390225062322\n",
      "Precison --> 0.004573438874230431\n",
      "Recall --> 0.5777777777777777\n",
      "F1 --> 0.009075043630017453\n"
     ]
    }
   ],
   "source": [
    "tn,fp,fn,tp=confusion_matrix(train_labels,kmeans_predicted_train_labels).ravel()\n",
    "reassignflag=False\n",
    "if tn+tp<fn+fp:\n",
    "    \n",
    "\t# clustering is opposite of original classification\n",
    "\treassignflag=True\n",
    "kmeans_predicted_test_labels=kmeans.predict(test_features)\n",
    "\n",
    "if reassignflag:\n",
    "\tkmeans_predicted_test_labels=1-kmeans_predicted_test_labels\n",
    "    \n",
    "#calculating confusion matrix for kmeans\n",
    "tn,fp,fn,tp=confusion_matrix(test_labels,kmeans_predicted_test_labels).ravel()\n",
    "\n",
    "\n",
    "#scoring kmeans\n",
    "kmeans_accuracy_score = accuracy_score(test_labels, kmeans_predicted_test_labels)\n",
    "kmeans_precison_score = precision_score(test_labels, kmeans_predicted_test_labels)\n",
    "kmeans_recall_score = recall_score(test_labels, kmeans_predicted_test_labels)\n",
    "kmeans_f1_score = f1_score(test_labels, kmeans_predicted_test_labels)\n",
    "\n",
    "\n",
    "#printing\n",
    "print(\"\")\n",
    "print(\"K-Means\")\n",
    "print(\"Confusion Matrix\")\n",
    "print(\"tn =\",tn,\"fp =\",fp)\n",
    "print(\"fn =\",fn,\"tp =\",tp)\n",
    "print(\"Scores\")\n",
    "print(\"Accuracy -->\",kmeans_accuracy_score)\n",
    "print(\"Precison -->\",kmeans_precison_score)\n",
    "print(\"Recall -->\",kmeans_recall_score)\n",
    "print(\"F1 -->\",kmeans_f1_score)"
   ]
  },
  {
   "cell_type": "code",
   "execution_count": 8,
   "metadata": {},
   "outputs": [],
   "source": [
    "#k_nearest_neighbours_classification\n",
    "\n",
    "knn = KNeighborsClassifier(n_neighbors = 5, algorithm = \"kd_tree\", n_jobs = -1)\n",
    "knn.fit(train_features, train_labels.ravel())\n",
    "knn_predicted_test_labels = knn.predict(test_features)\n",
    "\n",
    "\n",
    "#calculating confusion matrix for knn\n",
    "tn,fp,fn,tp = confusion_matrix(test_labels,knn_predicted_test_labels).ravel()\n",
    "\n",
    "\n",
    "#scoring knn\n",
    "knn_accuracy_score = accuracy_score(test_labels,knn_predicted_test_labels)\n",
    "knn_precison_score = precision_score(test_labels,knn_predicted_test_labels)\n",
    "knn_recall_score = recall_score(test_labels,knn_predicted_test_labels)\n",
    "knn_f1_score = f1_score(test_labels,knn_predicted_test_labels)"
   ]
  },
  {
   "cell_type": "code",
   "execution_count": 17,
   "metadata": {},
   "outputs": [
    {
     "name": "stdout",
     "output_type": "stream",
     "text": [
      "\n",
      "K-Nearest Neighbours\n",
      "Confusion Matrix\n",
      "tn = 28423 fp = 3\n",
      "fn = 19 tp = 36\n",
      "Scores\n",
      "Accuracy --> 99.92275552122467\n",
      "Precison --> 92.3076923076923\n",
      "Recall --> 65.45454545454545\n",
      "F1 --> 76.59574468085107\n"
     ]
    }
   ],
   "source": [
    "#printing\n",
    "print(\"\")\n",
    "print(\"K-Nearest Neighbours\")\n",
    "print(\"Confusion Matrix\")\n",
    "print(\"tn =\",tn,\"fp =\",fp)\n",
    "print(\"fn =\",fn,\"tp =\",tp)\n",
    "print(\"Scores\")\n",
    "print(\"Accuracy -->\",knn_accuracy_score*100)\n",
    "print(\"Precison -->\",knn_precison_score*100)\n",
    "print(\"Recall -->\",knn_recall_score*100)\n",
    "print(\"F1 -->\",knn_f1_score*100)"
   ]
  },
  {
   "cell_type": "code",
   "execution_count": 23,
   "metadata": {},
   "outputs": [
    {
     "name": "stdout",
     "output_type": "stream",
     "text": [
      "\n",
      "Time Taken : 6679.559900045395 seconds\n"
     ]
    }
   ],
   "source": [
    "#time elapsed\n",
    "toc=time.time()\n",
    "elapsedtime = toc-tic\n",
    "print(\"\")\n",
    "print(\"Time Taken : \"+str(elapsedtime)+\" seconds\")"
   ]
  },
  {
   "cell_type": "code",
   "execution_count": 25,
   "metadata": {},
   "outputs": [],
   "source": [
    "# save the model to disk\n",
    "\n",
    "with open('final_KNN_model.pkl', 'wb') as model_file:\n",
    "            pickle.dump(knn, model_file)\n",
    "        \n",
    "        \n",
    "\n",
    "        \n",
    "\n"
   ]
  },
  {
   "cell_type": "code",
   "execution_count": 26,
   "metadata": {},
   "outputs": [],
   "source": [
    "# load the model from disk\n",
    "\n",
    "with open('final_KNN_model.pkl', 'wb') as model_file:\n",
    "            pickle.dump(knn, model_file)\n",
    "        \n",
    "        \n"
   ]
  },
  {
   "cell_type": "code",
   "execution_count": null,
   "metadata": {},
   "outputs": [],
   "source": []
  }
 ],
 "metadata": {
  "kernelspec": {
   "display_name": "Python 3",
   "language": "python",
   "name": "python3"
  },
  "language_info": {
   "codemirror_mode": {
    "name": "ipython",
    "version": 3
   },
   "file_extension": ".py",
   "mimetype": "text/x-python",
   "name": "python",
   "nbconvert_exporter": "python",
   "pygments_lexer": "ipython3",
   "version": "3.6.5"
  }
 },
 "nbformat": 4,
 "nbformat_minor": 2
}
